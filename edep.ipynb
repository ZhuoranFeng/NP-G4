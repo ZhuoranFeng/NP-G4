{
 "cells": [
  {
   "cell_type": "code",
   "execution_count": 8,
   "metadata": {},
   "outputs": [],
   "source": [
    "import pandas as pd\n",
    "import numpy as np\n",
    "import matplotlib.pyplot as plt\n",
    "from matplotlib import ticker, cm"
   ]
  },
  {
   "cell_type": "code",
   "execution_count": 2,
   "metadata": {},
   "outputs": [],
   "source": [
    "data = pd.read_csv('edep.csv', sep = ';')"
   ]
  },
  {
   "cell_type": "code",
   "execution_count": 3,
   "metadata": {},
   "outputs": [
    {
     "name": "stdout",
     "output_type": "stream",
     "text": [
      "iX                     int64\n",
      "iY                     int64\n",
      "iZ                     int64\n",
      "total(value)[MeV]    float64\n",
      "total(val^2)         float64\n",
      "entry                  int64\n",
      "dtype: object (8000, 6)\n"
     ]
    }
   ],
   "source": [
    "print(data.dtypes, data.shape)"
   ]
  },
  {
   "cell_type": "code",
   "execution_count": 4,
   "metadata": {},
   "outputs": [],
   "source": [
    "iX = np.asarray(data['iX'])\n",
    "iY = np.asarray(data['iY'])\n",
    "iZ = np.asarray(data['iZ'])\n",
    "energy = np.asarray(data['total(value)[MeV]'])\n",
    "entries = np.asarray(data['entry'])"
   ]
  },
  {
   "cell_type": "code",
   "execution_count": 5,
   "metadata": {},
   "outputs": [
    {
     "name": "stdout",
     "output_type": "stream",
     "text": [
      "(8000, 8000)\n"
     ]
    }
   ],
   "source": [
    "# Projection along YZ plane\n",
    "\n",
    "Y, Z= np.meshgrid(iY, iZ)\n",
    "X, E = np.meshgrid(iX, energy)\n",
    "#E = energy[:-1, :-1]\n",
    "print(E.shape)"
   ]
  },
  {
   "cell_type": "code",
   "execution_count": 12,
   "metadata": {},
   "outputs": [
    {
     "name": "stderr",
     "output_type": "stream",
     "text": [
      "/opt/anaconda3/lib/python3.7/site-packages/ipykernel_launcher.py:2: UserWarning: Log scale: values of z <= 0 have been masked\n",
      "  \n"
     ]
    },
    {
     "data": {
      "image/png": "[encoded data removed]",
      "text/plain": [
       "<Figure size 576x576 with 2 Axes>"
      ]
     },
     "metadata": {
      "needs_background": "light"
     },
     "output_type": "display_data"
    }
   ],
   "source": [
    "fig0, ax0 = plt.subplots(figsize = (8., 8.))\n",
    "cs = ax0.contourf(Y, Z, E, locator=ticker.LogLocator(), cmap=cm.PuBu_r)\n",
    "cbar = fig0.colorbar(cs)\n",
    "ax0.set_xlabel('Y', fontsize = 18)\n",
    "ax0.set_ylabel('Z', fontsize = 18)\n",
    "ax0.tick_params(axis = 'both', labelsize = 14)\n",
    "\n",
    "plt.show()"
   ]
  },
  {
   "cell_type": "code",
   "execution_count": null,
   "metadata": {},
   "outputs": [],
   "source": []
  }
 ],
 "metadata": {
  "kernelspec": {
   "display_name": "Python 3",
   "language": "python",
   "name": "python3"
  },
  "language_info": {
   "codemirror_mode": {
    "name": "ipython",
    "version": 3
   },
   "file_extension": ".py",
   "mimetype": "text/x-python",
   "name": "python",
   "nbconvert_exporter": "python",
   "pygments_lexer": "ipython3",
   "version": "3.7.7"
  }
 },
 "nbformat": 4,
 "nbformat_minor": 4
}
